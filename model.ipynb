{
 "cells": [
  {
   "cell_type": "code",
   "execution_count": 1,
   "metadata": {},
   "outputs": [],
   "source": [
    "import openai\n",
    "\n",
    "with open('api.txt') as file:\n",
    "    openai.api_key = file.read()"
   ]
  },
  {
   "cell_type": "code",
   "execution_count": 4,
   "metadata": {},
   "outputs": [],
   "source": [
    "def get_api_response(prompt: str) -> str or None:\n",
    "    text: str or None = None\n",
    "\n",
    "    try:\n",
    "        response: dict = openai.Completion.create(\n",
    "            model='text-davinci-003',\n",
    "            prompt=prompt,\n",
    "            temperature=0.9,\n",
    "            max_tokens=150,\n",
    "            top_p=1,\n",
    "            frequency_penalty=0,\n",
    "            presence_penalty=0.6,\n",
    "            stop=[' Customer:', ' Bot:']\n",
    "        )\n",
    "\n",
    "        choices: dict = response.get('choices')[0]\n",
    "        text = choices.get('text')\n",
    "\n",
    "    except Exception as e:\n",
    "        print('ERROR:', e)\n",
    "\n",
    "    return text"
   ]
  },
  {
   "cell_type": "code",
   "execution_count": 6,
   "metadata": {},
   "outputs": [],
   "source": [
    "def update_list(message: str, pl: list):\n",
    "    pl.append(message)\n"
   ]
  },
  {
   "cell_type": "code",
   "execution_count": 7,
   "metadata": {},
   "outputs": [],
   "source": [
    "def create_prompt(message: str, pl) -> str:\n",
    "    p_message: str = f'\\nCustomer: {message}'\n",
    "    update_list(p_message, pl)\n",
    "    prompt: str = ''.join(pl)\n",
    "    return prompt\n"
   ]
  },
  {
   "cell_type": "code",
   "execution_count": 8,
   "metadata": {},
   "outputs": [],
   "source": [
    "def get_bot_response(message: str, pl) -> str:\n",
    "    prompt: str = create_prompt(message, pl)\n",
    "    bot_response: str = get_api_response(prompt)\n",
    "\n",
    "    if bot_response:\n",
    "        update_list(bot_response, pl)\n",
    "        pos: int = bot_response.find('\\nBot: ')\n",
    "        bot_response = bot_response[pos + 5:]\n",
    "    else:\n",
    "        bot_response = 'Something went wrong...'\n",
    "\n",
    "    return bot_response\n"
   ]
  },
  {
   "cell_type": "code",
   "execution_count": 11,
   "metadata": {},
   "outputs": [],
   "source": [
    "def main():\n",
    "    prompt_list: list[str] = ['You are a customer service in SYNC Inters company and will answer as an employee',\n",
    "                              '\\nCustomer: How can I reset my Password?',\n",
    "                              '\\nBot: Go to the sign in page and click reset password']\n",
    "\n",
    "    while True:\n",
    "        user_input: str = input('You: ')\n",
    "        response: str = get_bot_response(user_input, prompt_list)\n",
    "        print(f'Bot: {response}')\n"
   ]
  },
  {
   "cell_type": "code",
   "execution_count": null,
   "metadata": {},
   "outputs": [],
   "source": [
    "if __name__ == '__main__':\n",
    "\n",
    "    main()"
   ]
  },
  {
   "cell_type": "code",
   "execution_count": null,
   "metadata": {},
   "outputs": [],
   "source": []
  }
 ],
 "metadata": {
  "kernelspec": {
   "display_name": "conda",
   "language": "python",
   "name": "python3"
  },
  "language_info": {
   "codemirror_mode": {
    "name": "ipython",
    "version": 3
   },
   "file_extension": ".py",
   "mimetype": "text/x-python",
   "name": "python",
   "nbconvert_exporter": "python",
   "pygments_lexer": "ipython3",
   "version": "3.8.16"
  },
  "orig_nbformat": 4
 },
 "nbformat": 4,
 "nbformat_minor": 2
}
